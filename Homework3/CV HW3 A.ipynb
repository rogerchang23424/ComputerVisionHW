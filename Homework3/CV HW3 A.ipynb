{
 "cells": [
  {
   "cell_type": "code",
   "execution_count": 1,
   "metadata": {},
   "outputs": [],
   "source": [
    "import os\n",
    "outdir = './p1'"
   ]
  },
  {
   "cell_type": "code",
   "execution_count": 3,
   "metadata": {},
   "outputs": [],
   "source": [
    "if not os.path.exists(outdir):\n",
    "    os.mkdir(outdir)"
   ]
  },
  {
   "cell_type": "code",
   "execution_count": 4,
   "metadata": {},
   "outputs": [
    {
     "data": {
      "text/plain": [
       "('./p1\\\\pA2.csv', <http.client.HTTPMessage at 0x1ef47282208>)"
      ]
     },
     "execution_count": 4,
     "metadata": {},
     "output_type": "execute_result"
    }
   ],
   "source": [
    "import urllib\n",
    "urllib.request.urlretrieve('http://140.114.76.113:8000/pA1.csv', os.path.join(outdir, 'pA1.csv'))\n",
    "urllib.request.urlretrieve('http://140.114.76.113:8000/pA2.csv', os.path.join(outdir, 'pA2.csv'))"
   ]
  },
  {
   "cell_type": "code",
   "execution_count": 7,
   "metadata": {},
   "outputs": [],
   "source": [
    "import numpy as np\n",
    "import pandas as pd\n",
    "import matplotlib.pyplot as plt\n",
    "\n",
    "import torch\n",
    "from torch import nn\n",
    "from torch.nn import functional as F\n",
    "from torch.utils.data import Dataset, DataLoader"
   ]
  },
  {
   "cell_type": "code",
   "execution_count": 8,
   "metadata": {},
   "outputs": [],
   "source": [
    "seed = 999\n",
    "torch.manual_seed(seed)\n",
    "torch.backends.cudnn.deterministic = True"
   ]
  },
  {
   "cell_type": "code",
   "execution_count": 14,
   "metadata": {},
   "outputs": [
    {
     "name": "stdout",
     "output_type": "stream",
     "text": [
      "[{'x': 0.375, 'y': 6.107}, {'x': 0.951, 'y': 8.891}, {'x': 0.732, 'y': 7.88}, {'x': 0.599, 'y': 7.191}, {'x': 0.156, 'y': 4.829}, {'x': 0.156, 'y': 4.9910000000000005}, {'x': 0.057999999999999996, 'y': 4.085}, {'x': 0.866, 'y': 8.179}, {'x': 0.601, 'y': 6.778}, {'x': 0.708, 'y': 7.452999999999999}, {'x': 0.021, 'y': 4.047}, {'x': 0.97, 'y': 8.735}, {'x': 0.8320000000000001, 'y': 8.327}, {'x': 0.212, 'y': 4.99}, {'x': 0.182, 'y': 4.8}, {'x': 0.183, 'y': 4.938}, {'x': 0.304, 'y': 5.3420000000000005}, {'x': 0.525, 'y': 6.775}, {'x': 0.43200000000000005, 'y': 5.947}, {'x': 0.29100000000000004, 'y': 5.7}, {'x': 0.612, 'y': 7.195}, {'x': 0.139, 'y': 4.547}, {'x': 0.292, 'y': 5.212999999999999}, {'x': 0.366, 'y': 5.99}, {'x': 0.456, 'y': 6.3839999999999995}, {'x': 0.785, 'y': 8.04}, {'x': 0.2, 'y': 5.1339999999999995}, {'x': 0.514, 'y': 6.358}, {'x': 0.5920000000000001, 'y': 6.891}, {'x': 0.046, 'y': 4.04}, {'x': 0.608, 'y': 7.218999999999999}, {'x': 0.171, 'y': 4.914}, {'x': 0.065, 'y': 4.2410000000000005}, {'x': 0.9490000000000001, 'y': 8.526}, {'x': 0.966, 'y': 8.734}, {'x': 0.8079999999999999, 'y': 7.955}, {'x': 0.305, 'y': 5.638}, {'x': 0.098, 'y': 4.5569999999999995}, {'x': 0.684, 'y': 7.615}, {'x': 0.44, 'y': 6.187}, {'x': 0.122, 'y': 4.42}, {'x': 0.495, 'y': 6.582999999999999}, {'x': 0.034, 'y': 4.302}, {'x': 0.909, 'y': 8.577}, {'x': 0.259, 'y': 5.428999999999999}, {'x': 0.6629999999999999, 'y': 7.31}, {'x': 0.312, 'y': 5.57}, {'x': 0.52, 'y': 6.564}, {'x': 0.547, 'y': 6.496}, {'x': 0.185, 'y': 4.728}]\n",
      "Parameter containing:\n",
      "tensor([5.0263], device='cuda:0', requires_grad=True)\n",
      "Parameter containing:\n",
      "tensor([4.0066], device='cuda:0', requires_grad=True)\n"
     ]
    }
   ],
   "source": [
    "class Data:\n",
    "    def __init__(self, csv_path):\n",
    "        super().__init__()\n",
    "        self.anns = pd.read_csv(csv_path).to_dict('records')\n",
    "\n",
    "    def __len__(self):\n",
    "        return len(self.anns)\n",
    "\n",
    "    def __getitem__(self, idx):\n",
    "        ann = self.anns[idx]\n",
    "        x = torch.tensor(ann['x'])\n",
    "        y = torch.tensor(ann['y'])\n",
    "        return x, y\n",
    "\n",
    "\n",
    "class Net(nn.Module):\n",
    "    def __init__(self):\n",
    "        super().__init__()\n",
    "        self.a = nn.Parameter(torch.rand(1) * 0.001)\n",
    "        self.b = nn.Parameter(torch.rand(1) * 0.001)\n",
    "    \n",
    "    def forward(self, xs):\n",
    "        ps = self.a * xs + self.b\n",
    "        return ps\n",
    "\n",
    "\n",
    "data = Data(os.path.join(outdir, 'pA1.csv'))\n",
    "print(data.anns)\n",
    "loader = DataLoader(data, batch_size=5)\n",
    "\n",
    "device = 'cuda'\n",
    "model = Net().to(device)\n",
    "criterion = nn.L1Loss()\n",
    "optimizer = torch.optim.Adam(model.parameters(), lr=1e-1)\n",
    "\n",
    "history = {\n",
    "    'loss': [],\n",
    "    'a': [],\n",
    "    'b': []\n",
    "}\n",
    "\n",
    "for epoch in range(50):\n",
    "    for xs, ys in iter(loader):\n",
    "        xs = xs.to(device)\n",
    "        ys = ys.to(device)\n",
    "\n",
    "        optimizer.zero_grad()\n",
    "        ps = model(xs)\n",
    "        loss = criterion(ps, ys)\n",
    "        loss.backward()\n",
    "        optimizer.step()\n",
    "\n",
    "        history['loss'].append(loss.detach().item())\n",
    "        history['a'].append(model.a.item())\n",
    "        history['b'].append(model.b.item())\n",
    "\n",
    "print(model.a)\n",
    "print(model.b)"
   ]
  },
  {
   "cell_type": "code",
   "execution_count": null,
   "metadata": {},
   "outputs": [],
   "source": []
  }
 ],
 "metadata": {
  "kernelspec": {
   "display_name": "Python 3",
   "language": "python",
   "name": "python3"
  },
  "language_info": {
   "codemirror_mode": {
    "name": "ipython",
    "version": 3
   },
   "file_extension": ".py",
   "mimetype": "text/x-python",
   "name": "python",
   "nbconvert_exporter": "python",
   "pygments_lexer": "ipython3",
   "version": "3.7.5"
  }
 },
 "nbformat": 4,
 "nbformat_minor": 2
}
