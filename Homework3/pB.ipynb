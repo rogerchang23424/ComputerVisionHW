{
 "cells": [
  {
   "cell_type": "markdown",
   "metadata": {
    "colab_type": "text",
    "id": "9OAkOhzr2ekC"
   },
   "source": [
    "# Download data"
   ]
  },
  {
   "cell_type": "code",
   "execution_count": 1,
   "metadata": {},
   "outputs": [],
   "source": [
    "import zipfile\n",
    "import os\n",
    "import urllib.request as rq\n",
    "import urllib.parse as ps\n",
    "from http.cookiejar import Cookie, MozillaCookieJar\n",
    "import gzip\n",
    "import zlib\n",
    "import json\n",
    "import uuid\n",
    "import gc"
   ]
  },
  {
   "cell_type": "code",
   "execution_count": 2,
   "metadata": {
    "colab": {
     "base_uri": "https://localhost:8080/",
     "height": 312
    },
    "colab_type": "code",
    "id": "Zgh1Sj9GaDB5",
    "outputId": "5f31d946-3fff-42c6-cec8-0effc49cac9a"
   },
   "outputs": [
    {
     "name": "stdout",
     "output_type": "stream",
     "text": [
      "Downloading: 100.0%\n"
     ]
    }
   ],
   "source": [
    "outdir = '.'\n",
    "\n",
    "def proc_hook(a, b, c):\n",
    "    print('\\rDownloading: %3.1f%%' % (float(a*b) / c * 100.0), end='')\n",
    "\n",
    "rq.urlretrieve('http://140.114.76.113:8000/ccpd6000.zip', os.path.join(outdir, 'ccpd6000.zip'), proc_hook)\n",
    "print('')\n",
    "with zipfile.ZipFile(os.path.join(outdir, 'ccpd6000.zip')) as zipf:\n",
    "    zipf.extractall(outdir)"
   ]
  },
  {
   "cell_type": "code",
   "execution_count": 3,
   "metadata": {},
   "outputs": [],
   "source": [
    "b_headers = {'User-Agent': 'NTHU CV HW3',\n",
    "             'Accept': 'text/html,application/xhtml+xml,application/xml;q=0.9,*/*;q=0.8',\n",
    "             'Accept-Encoding': 'gzip, deflate',\n",
    "             'Accept-Charset': 'ISO-8859-1,utf-8;q=0.7,*;q=0.7'}\n",
    "\n",
    "class Browser(object):\n",
    "    def __init__(self, cookies=None, proxy=None):\n",
    "        self._opener = None\n",
    "        self._headers = b_headers\n",
    "\n",
    "        self._cookiejar = None\n",
    "\n",
    "        cj = MozillaCookieJar()\n",
    "        if cookies:\n",
    "            cj.load(cookies, ignore_discard=True, ignore_expires=True)\n",
    "        ch = rq.HTTPCookieProcessor(cj)\n",
    "        self._cookiejar = cj\n",
    "\n",
    "        if proxy:\n",
    "            ph = rq.ProxyHandler({'http': proxy, 'https': proxy})\n",
    "            self._opener = rq.build_opener(ph, ch)\n",
    "        else:\n",
    "            self._opener = rq.build_opener(ch)\n",
    "\n",
    "    def _read(self, res):\n",
    "        res_headers = dict(res.info())\n",
    "        if res_headers.get('Content-Encoding') == 'gzip':\n",
    "            content = gzip.decompress(res.read())\n",
    "        elif res_headers.get('Content-Encoding') == 'deflate':\n",
    "            content = zlib.decompress(res.read())\n",
    "        else:\n",
    "            content = res.read()\n",
    "\n",
    "        return content\n",
    "\n",
    "    def _deal_headers(self, headers):\n",
    "        if headers:\n",
    "            h = self._headers.copy()\n",
    "            h.update(headers)\n",
    "        else:\n",
    "            h = self._headers\n",
    "\n",
    "        return h\n",
    "\n",
    "    def get(self, url, headers=None, encoding='utf-8', stream=False):\n",
    "        h = self._deal_headers(headers)\n",
    "\n",
    "        rrq = rq.Request(url, headers=h)\n",
    "        r = self._opener.open(rrq)\n",
    "\n",
    "        if not stream:\n",
    "            s = self._read(r)\n",
    "            s = s.decode(encoding)\n",
    "            r.close()\n",
    "        else:\n",
    "            s = ''\n",
    "\n",
    "        if headers:\n",
    "            del h\n",
    "\n",
    "        return r, s\n",
    "\n",
    "    def get_json(self, url, headers=None, encoding='utf-8'):\n",
    "        r, s = self.get(url, headers, encoding, False)\n",
    "        return r, json.loads(s)\n",
    "\n",
    "    def post(self, url, headers={}, encoding='utf-8', data=None, json_payload=None, files=None, stream=False):\n",
    "        h = self._headers.copy()\n",
    "        h.update(headers)\n",
    "\n",
    "        if data is not None:\n",
    "            if type(data) == dict:\n",
    "                h['Content-Type'] = 'application/x-www-form-urlencoded'\n",
    "                pdata = ps.urlencode(data, encoding=encoding).encode(encoding)\n",
    "            else:\n",
    "                if type(data) == str:\n",
    "                    pdata = data.encode(encoding)\n",
    "                else:\n",
    "                    pdata = data\n",
    "\n",
    "        if json_payload is not None and data is None:\n",
    "            h['Content-Type'] = 'application/json'\n",
    "            pdata = json.dumps(json_payload).encode(encoding)\n",
    "\n",
    "        if files is not None and (json_payload is None and data is None):\n",
    "            bound = uuid.uuid4().hex\n",
    "            h['Content-Type'] = 'multipart/form-data; boundary=%s' % bound\n",
    "\n",
    "            pdata = b''\n",
    "\n",
    "            for fn, fobj in files.items():\n",
    "                pdata += b'--%s\\r\\n' % bound.encode(encoding)\n",
    "                if type(fobj) == str or type(fobj) == bytes:\n",
    "                    pdata += b'Content-Disposition: form-data; name=\"%s\"\"\\r\\n\\r\\n' % fn.encode(encoding)\n",
    "\n",
    "                    if type(fobj) == str:\n",
    "                        to_put = fobj.encode(encoding)\n",
    "                    else:\n",
    "                        to_put = fobj\n",
    "                    pdata += to_put\n",
    "                    pdata += b'\\r\\n'\n",
    "                else:\n",
    "                    pdata += b'Content-Disposition: form-data; name=\"%s\"; filename=\"%s\"\\r\\n\\r\\n'\\\n",
    "                               % (fn.encode(encoding), fobj.name.encode(encoding))\n",
    "\n",
    "                    pdata += fobj.read()\n",
    "                    pdata += b'\\r\\n'\n",
    "                    fobj.close()\n",
    "            pdata += b'--%s--\\r\\n' % bound.encode(encoding)\n",
    "\n",
    "        rqq = rq.Request(url, headers=h, data=pdata, method='POST')\n",
    "        r = self._opener.open(rqq)\n",
    "\n",
    "        if not stream:\n",
    "            s = self._read(r)\n",
    "            s = s.decode(encoding)\n",
    "            r.close()\n",
    "        else:\n",
    "            s = ''\n",
    "\n",
    "        del h\n",
    "\n",
    "        return r, s\n",
    "\n",
    "    def head(self, url, headers=None, encoding='utf-8'):\n",
    "        h = self._deal_headers(headers)\n",
    "\n",
    "        rrq = rq.Request(url, headers=h, method='HEAD')\n",
    "        r = self._opener.open(rrq)\n",
    "\n",
    "        if headers:\n",
    "            del h\n",
    "\n",
    "        return r, ''\n",
    "\n",
    "    def set_user_agent(self, ua):\n",
    "        self._headers['User-Agent'] = ua\n",
    "\n",
    "    def set_cookies(self, name, value, domain, path='/', expires=None, port=None, secure=False, discard=False, version=None):\n",
    "        # Cookie(version, name, value, port, port_specified, domain,\n",
    "        # domain_specified, domain_initial_dot, path, path_specified,\n",
    "        # secure, expires, discard, comment, comment_url, rest, rfc2109=False)\n",
    "        c = Cookie(version, name, value, port, port is not None, domain, True, domain.startswith('.'), path,\n",
    "                   True, secure, expires, discard, None, None, None)\n",
    "        self._cookiejar.set_cookie(c)\n",
    "\n",
    "    def get_cookie_value(self, name, domain):\n",
    "        for c in self._cookiejar:\n",
    "            if c.name == name and c.domain == domain:\n",
    "                return c.value\n",
    "\n",
    "    def get_cookie(self, name, domain):\n",
    "        for c in self._cookiejar:\n",
    "            if c.name == name and c.domain == domain:\n",
    "                return c\n",
    "\n",
    "    def close(self):\n",
    "        self._opener.close()\n",
    "\n",
    "    @property\n",
    "    def opener(self):\n",
    "        return self._opener\n",
    "\n",
    "    @property\n",
    "    def headers(self):\n",
    "        return self._headers"
   ]
  },
  {
   "cell_type": "markdown",
   "metadata": {
    "colab_type": "text",
    "id": "wWoZBNU0sx-v"
   },
   "source": [
    "## Init and Utility"
   ]
  },
  {
   "cell_type": "code",
   "execution_count": 4,
   "metadata": {
    "colab": {},
    "colab_type": "code",
    "id": "lcDN5XqjbUCj"
   },
   "outputs": [],
   "source": [
    "import random\n",
    "import numpy as np\n",
    "import pandas as pd\n",
    "from pathlib import Path\n",
    "from datetime import datetime\n",
    "import matplotlib.pyplot as plt\n",
    "from PIL import Image, ImageDraw\n",
    "from IPython import display\n",
    "\n",
    "import torch\n",
    "from torch import nn\n",
    "from torch.nn import functional as F\n",
    "from torchvision import transforms\n",
    "from torchvision.transforms import functional as tf\n",
    "from torch.utils.data import DataLoader, Dataset, Subset, ConcatDataset\n",
    "\n",
    "torch.cuda.set_device(0)\n",
    "\n",
    "# Fix the seed for reproducibility\n",
    "seed = 999\n",
    "random.seed(seed)\n",
    "np.random.seed(seed)\n",
    "torch.manual_seed(seed)\n",
    "torch.backends.cudnn.deterministic = True\n",
    "\n",
    "# Some constants\n",
    "FIELDS = ['BR_x', 'BR_y', 'BL_x', 'BL_y', 'TL_x', 'TL_y', 'TR_x', 'TR_y'] # the fields in csv\n",
    "IMG_SIZE = (192, 320) # the input image size (width, height) of the model\n",
    "ROOT_DIR = Path('./ccpd6000/') # the root directory of the dataset"
   ]
  },
  {
   "cell_type": "markdown",
   "metadata": {
    "colab_type": "text",
    "id": "HeaDTK_BuGdN"
   },
   "source": [
    "## Training Data"
   ]
  },
  {
   "cell_type": "code",
   "execution_count": 5,
   "metadata": {
    "colab": {},
    "colab_type": "code",
    "id": "nfnBR8ucb3Vp"
   },
   "outputs": [],
   "source": [
    "def draw_kpts(img, kpts, c='red', r=2.0):\n",
    "    '''\n",
    "    Draw `kpts` on `img`. `img` is modified inplace.\n",
    "    Args:\n",
    "        img: (PIL.Image) the image to be drawn\n",
    "        kpts: (torch.tensor) the normalized positions (x, y) of keypoints, shaped [4, 2]\n",
    "        c: (str) color\n",
    "        r: (float) radius of the drawn circle\n",
    "    Return:\n",
    "        img: (PIL.Image) the result.\n",
    "    '''\n",
    "    draw = ImageDraw.Draw(img)\n",
    "    size = torch.tensor([img.size]).float()\n",
    "    kpts = kpts.view(4, 2) * size\n",
    "    kpts = kpts.numpy().tolist()\n",
    "    for x, y in kpts:\n",
    "        draw.ellipse([x - r, y - r, x + r, y + r], fill=c)\n",
    "    return img"
   ]
  },
  {
   "cell_type": "code",
   "execution_count": 6,
   "metadata": {
    "colab": {
     "base_uri": "https://localhost:8080/",
     "height": 342
    },
    "colab_type": "code",
    "id": "dJEFBMjEb6kp",
    "outputId": "a37feb5c-aa7a-4294-86df-dc31b3ea8f4c"
   },
   "outputs": [
    {
     "name": "stdout",
     "output_type": "stream",
     "text": [
      " 3000 / 3000\n",
      "3000\n",
      "torch.Size([3, 320, 192])\n",
      "tensor(1.)\n",
      "torch.Size([8])\n"
     ]
    },
    {
     "data": {
      "image/png": "[encoded data removed]",
      "text/plain": [
       "<Figure size 432x288 with 1 Axes>"
      ]
     },
     "metadata": {
      "needs_background": "light"
     },
     "output_type": "display_data"
    }
   ],
   "source": [
    "class TrainData(Dataset):\n",
    "    def __init__(self, csv_path, img_dir):\n",
    "        super().__init__()\n",
    "        self.anns = pd.read_csv(csv_path).to_dict('records') # List of Dict\n",
    "        self.img_dir = Path(img_dir)\n",
    "        self.trans = transforms.ToTensor()\n",
    "        data_len = len(self.anns)\n",
    "        \n",
    "        self.point_data = []\n",
    "        self.imgs = []\n",
    "        for i, ann in enumerate(self.anns):\n",
    "            print('\\r %4d / %4d' % (i+1, data_len), end='')\n",
    "            img = Image.open(self.img_dir / ann['name'])\n",
    "            w, h = img.size\n",
    "            img_ = img.resize((192,320))\n",
    "            del img\n",
    "            img = self.trans(img_)\n",
    "            del img_\n",
    "            self.imgs.append(img)\n",
    "            \n",
    "            a = torch.FloatTensor(8)\n",
    "            for i, field in enumerate(FIELDS):\n",
    "                if field[-1] == 'x':\n",
    "                    a[i] = ann[field] / w\n",
    "                else:\n",
    "                    a[i] = ann[field] / h\n",
    "            self.point_data.append(a)\n",
    "        print()\n",
    "\n",
    "    def __len__(self):\n",
    "        return len(self.anns)\n",
    "\n",
    "    def __getitem__(self, idx):\n",
    "        '''Map index `idx` to a sample, i.e., an image and its keypoints\n",
    "\n",
    "        Args:\n",
    "            idx: (int) index\n",
    "        Return:\n",
    "            img: (torch.FloatTensor) values in 0 ~ 1 and shaped [3, H, W]\n",
    "            kpt: (torch.FloatTensor) normalized positions of \n",
    "                bottom-right, bottom-left, top-left, top-right corners. \n",
    "                For example, position (256, 256) of an (512, 512) image should be (0.5, 0.5)\n",
    "                `kpt` should have same order as `FIELDS` and is shaped [8].\n",
    "        '''\n",
    "        img = self.imgs[idx]\n",
    "        kpt = self.point_data[idx]\n",
    "        return img, kpt\n",
    "\n",
    "# Do some checking and visualization\n",
    "data = TrainData(ROOT_DIR / 'train.csv', ROOT_DIR / 'train_images')\n",
    "print(len(data))    # should be 3000\n",
    "# print(data.anns)\n",
    "img, kpt = data[-1] # get a sample\n",
    "print(img.size())   # should be [3, H, W]\n",
    "print(img.max())    # should be <= 1.0\n",
    "print(kpt.size())   # should be [8]\n",
    "\n",
    "img = tf.to_pil_image(img) # convert tensor of shape (3, H, W) to PIL.Image\n",
    "vis = draw_kpts(img, kpt, c='orange')\n",
    "plt.imshow(vis)\n",
    "plt.show()"
   ]
  },
  {
   "cell_type": "code",
   "execution_count": 7,
   "metadata": {},
   "outputs": [],
   "source": [
    "del img\n",
    "del kpt\n",
    "del vis"
   ]
  },
  {
   "cell_type": "markdown",
   "metadata": {
    "colab_type": "text",
    "id": "jXjRuBAmuNOC"
   },
   "source": [
    "## Network"
   ]
  },
  {
   "cell_type": "code",
   "execution_count": 8,
   "metadata": {
    "colab": {
     "base_uri": "https://localhost:8080/",
     "height": 72
    },
    "colab_type": "code",
    "id": "u4OigzOEcFR6",
    "outputId": "184e9c96-3252-4cfd-dc15-4faeee53ee61"
   },
   "outputs": [
    {
     "name": "stdout",
     "output_type": "stream",
     "text": [
      "torch.Size([10, 3, 320, 192])\n",
      "torch.Size([10, 8])\n",
      "tensor(0.1244, device='cuda:0', grad_fn=<L1LossBackward>)\n"
     ]
    }
   ],
   "source": [
    "class ConvBlock(nn.Module):\n",
    "    def __init__(self, cin, cout):\n",
    "        super().__init__() # necessary\n",
    "        self.conv = nn.Conv2d(cin, cout, (3, 3), padding=1)\n",
    "        self.bn = nn.BatchNorm2d(cout)\n",
    "        self.relu = nn.ReLU()\n",
    "\n",
    "    def forward(self, x):\n",
    "        x = self.conv(x)\n",
    "        x = self.bn(x)\n",
    "        x = self.relu(x)\n",
    "        return x\n",
    "\n",
    "\n",
    "class Net(nn.Module):\n",
    "    def __init__(self):\n",
    "        '''Defines parameters (what layers you gonna use)\n",
    "        '''\n",
    "        super().__init__() # necessary\n",
    "        self.features = nn.Sequential(\n",
    "            ConvBlock(3, 32),\n",
    "            ConvBlock(32, 32),\n",
    "            nn.MaxPool2d((4, 4)),\n",
    "            ConvBlock(32, 32),\n",
    "            ConvBlock(32, 32),\n",
    "            nn.MaxPool2d((2, 2)),\n",
    "            ConvBlock(32, 32),\n",
    "            ConvBlock(32, 32),\n",
    "            nn.MaxPool2d((2, 2)),\n",
    "            ConvBlock(32, 32),\n",
    "            ConvBlock(32, 32),\n",
    "            nn.MaxPool2d((2, 2)),\n",
    "            ConvBlock(32, 32),\n",
    "            ConvBlock(32, 32),\n",
    "            nn.MaxPool2d((2, 2)),\n",
    "        )\n",
    "        self.regression = nn.Sequential(\n",
    "            nn.Flatten(), nn.Linear(480, 32), nn.ReLU(), nn.Linear(32, 8), nn.Sigmoid()\n",
    "        )\n",
    "\n",
    "    def forward(self, img_b):\n",
    "        xa = self.features(img_b)\n",
    "        res = self.regression(xa)\n",
    "        return res\n",
    "\n",
    "\n",
    "# Do some checking\n",
    "loader = DataLoader(data, batch_size=10) # dataloader constructs mini-batch from a dataset\n",
    "img_b, kpt_b = next(iter(loader)) # get an mini-batch\n",
    "print(img_b.size()) # expects [N, 3, H, W]\n",
    "print(kpt_b.size()) # expects [N, 8]\n",
    "\n",
    "# Do a forwarding\n",
    "device = 'cuda'     # the computing device, 'cuda' or 'cpu'\n",
    "model = Net().to(device) # instantiate network and move it to device\n",
    "criterion = nn.L1Loss()  # the criterion (loss function)\n",
    "\n",
    "img_b = img_b.to(device)\n",
    "kpt_b = kpt_b.to(device)\n",
    "pred_b = model(img_b)\n",
    "loss = criterion(pred_b, kpt_b)\n",
    "print(loss)"
   ]
  },
  {
   "cell_type": "code",
   "execution_count": 9,
   "metadata": {},
   "outputs": [
    {
     "data": {
      "text/plain": [
       "2507"
      ]
     },
     "execution_count": 9,
     "metadata": {},
     "output_type": "execute_result"
    }
   ],
   "source": [
    "del model\n",
    "del criterion\n",
    "del img_b\n",
    "del kpt_b\n",
    "del pred_b\n",
    "del loss\n",
    "del data\n",
    "\n",
    "torch.cuda.empty_cache()\n",
    "gc.collect()"
   ]
  },
  {
   "cell_type": "markdown",
   "metadata": {
    "colab_type": "text",
    "id": "oK44dPOUwmYU"
   },
   "source": [
    "## Training"
   ]
  },
  {
   "cell_type": "code",
   "execution_count": 10,
   "metadata": {
    "colab": {
     "base_uri": "https://localhost:8080/",
     "height": 293
    },
    "colab_type": "code",
    "id": "az63JEHfcWtJ",
    "outputId": "3d391209-e712-4f3a-b1ea-9f5f32546642",
    "scrolled": true
   },
   "outputs": [
    {
     "name": "stdout",
     "output_type": "stream",
     "text": [
      " 3000 / 3000\n"
     ]
    }
   ],
   "source": [
    "class Trainer:\n",
    "    def __init__(self, log_dir):\n",
    "        '''Initialize the varibles for training\n",
    "        Args:\n",
    "            log_dir: (pathlib.Path) the direction used for logging\n",
    "        '''\n",
    "        self.log_dir = log_dir\n",
    "\n",
    "        # Datasets and dataloaders\n",
    "        # 1. Split the whole training data into train and valid (validation)\n",
    "        # 2. Construct visualization data (25 training samples, 25 validation samples)\n",
    "        # 3. Make the corresponding dataloaders\n",
    "        data = TrainData(ROOT_DIR / 'train.csv', ROOT_DIR / 'train_images')\n",
    "        pivot = len(data) * 4 // 5\n",
    "        self.train_set = Subset(data, range(0, pivot))\n",
    "        self.valid_set = Subset(data, range(pivot, len(data)))\n",
    "        self.visul_set = ConcatDataset(\n",
    "            [\n",
    "                Subset(self.train_set, random.sample(range(len(self.train_set)), k=25)),\n",
    "                Subset(self.valid_set, random.sample(range(len(self.valid_set)), k=25)),\n",
    "            ]\n",
    "        )\n",
    "        self.train_loader = DataLoader(self.train_set, 10, shuffle=True)\n",
    "        self.valid_loader = DataLoader(self.valid_set, 10, shuffle=False)\n",
    "        self.visul_loader = DataLoader(self.visul_set, 10, shuffle=False)\n",
    "\n",
    "        # model, loss function, optimizer\n",
    "        self.device = 'cuda'\n",
    "        self.model = Net().to(self.device)\n",
    "        self.criterion = nn.L1Loss()\n",
    "        self.optimizer = torch.optim.Adam(self.model.parameters(), lr=1e-3)\n",
    "        self.max_epoch = 100\n",
    "\n",
    "    def run(self):\n",
    "        metrics = {'train_loss': [], 'valid_loss': []}\n",
    "\n",
    "        for self.epoch in range(self.max_epoch): \n",
    "            train_loss = self.train() \n",
    "            valid_loss = self.valid() \n",
    "            self.visul()             \n",
    "\n",
    "            print(f'Epoch {self.epoch:03d}:')\n",
    "            print('train loss:', train_loss)\n",
    "            print('valid loss:', valid_loss)\n",
    "            metrics['train_loss'].append(train_loss)\n",
    "            metrics['valid_loss'].append(valid_loss)\n",
    "\n",
    "        # Save the parameters(weights) of the model to disk\n",
    "        torch.save(self.model.state_dict(), self.log_dir / 'model.pt')\n",
    "\n",
    "        # Plot the loss curve against epoch\n",
    "        plt.figure(1)\n",
    "        plt.plot(list(range(self.max_epoch)), metrics['train_loss'], list(range(self.max_epoch)), metrics['valid_loss'])\n",
    "        plt.legend(['train loss', 'valid loss'])\n",
    "        plt.xlabel('epoch')\n",
    "        plt.ylabel('loss')\n",
    "        plt.savefig(self.log_dir / 'metrics.png')\n",
    "\n",
    "    def train(self):\n",
    "        '''Train one epoch\n",
    "        1. Switch model to training mode\n",
    "        2. Iterate mini-batches and do:\n",
    "            a. clear gradient\n",
    "            b. forward to get loss\n",
    "            c. loss backward\n",
    "            d. update parameters\n",
    "        3. Return the average loss in this epoch\n",
    "        '''\n",
    "        loss_list = []\n",
    "        for img, points in iter(self.train_loader):\n",
    "            img = img.to(self.device)\n",
    "            points = points.to(self.device)\n",
    "            \n",
    "            self.optimizer.zero_grad()\n",
    "            pred_points = self.model(img)\n",
    "            loss = self.criterion(pred_points, points)\n",
    "            loss.backward()\n",
    "            self.optimizer.step()\n",
    "            \n",
    "            loss_list.append(loss.detach().item())\n",
    "            \n",
    "        return sum(loss_list) / len(loss_list)\n",
    "\n",
    "    @torch.no_grad()\n",
    "    def valid(self):\n",
    "        '''Validate one epoch\n",
    "        1. Switch model to evaluation mode and turn off gradient (by @torch.no_grad() or with torch.no_grad())\n",
    "        2. Iterate mini-batches and do forwarding to get loss\n",
    "        3. Return average loss in this epoch\n",
    "        '''\n",
    "        loss_list = []\n",
    "        for img, points in iter(self.valid_loader):\n",
    "            img = img.to(self.device)\n",
    "            points = points.to(self.device)\n",
    "            \n",
    "            pred_points = self.model(img)\n",
    "            loss = self.criterion(pred_points, points)\n",
    "            \n",
    "            loss_list.append(loss.detach().item())\n",
    "            \n",
    "        return sum(loss_list) / len(loss_list)\n",
    "\n",
    "    @torch.no_grad()\n",
    "    def visul(self):\n",
    "        ''' Visualize some samples\n",
    "        1. Switch model to evaluation mode and turn off gradient (by @torch.no_grad() or with torch.no_grad())\n",
    "        2. Iterate mini-batches and do:\n",
    "            a. forward to get predictions\n",
    "            b. visualize and save visualization to log_dir / f'{epoch:03d}'\n",
    "        As a result, first 25 samples are from training data and last 25 samples are from validation.\n",
    "        '''\n",
    "        self.model.eval()\n",
    "        epoch_dir = self.log_dir / f'{self.epoch:03d}'\n",
    "        epoch_dir.mkdir(parents=True)\n",
    "        idx = 0\n",
    "        for img_b, kpt_b in iter(self.visul_loader):\n",
    "            pred_b = self.model(img_b.to(self.device)).to('cpu')\n",
    "            for img, kpt, pred in zip(img_b, kpt_b, pred_b):\n",
    "                img = tf.to_pil_image(img)\n",
    "                vis = draw_kpts(img, kpt, c='orange')\n",
    "                vis = draw_kpts(img, pred, c='red')\n",
    "                vis.save(epoch_dir / f'{idx:03d}.jpg')\n",
    "                idx += 1\n",
    "\n",
    "log_dir = Path('./runs/') / f'{datetime.now():%b_%d_%H_%M_%S}'\n",
    "log_dir.mkdir(parents=True)\n",
    "t = Trainer(log_dir)"
   ]
  },
  {
   "cell_type": "code",
   "execution_count": 11,
   "metadata": {},
   "outputs": [
    {
     "name": "stdout",
     "output_type": "stream",
     "text": [
      "Epoch 000:\n",
      "train loss: 0.030089125929710765\n",
      "valid loss: 0.017995734745636583\n",
      "Epoch 001:\n",
      "train loss: 0.017454161308705807\n",
      "valid loss: 0.016386995557695627\n",
      "Epoch 002:\n",
      "train loss: 0.013897388381883502\n",
      "valid loss: 0.013638149139781792\n",
      "Epoch 003:\n",
      "train loss: 0.012362092541297897\n",
      "valid loss: 0.013578213130434355\n",
      "Epoch 004:\n",
      "train loss: 0.012118771581056838\n",
      "valid loss: 0.011541130393743515\n",
      "Epoch 005:\n",
      "train loss: 0.01076186248489345\n",
      "valid loss: 0.010704434437987706\n",
      "Epoch 006:\n",
      "train loss: 0.010413391135322551\n",
      "valid loss: 0.010172825050540268\n",
      "Epoch 007:\n",
      "train loss: 0.009784307342488318\n",
      "valid loss: 0.010749183540853361\n",
      "Epoch 008:\n",
      "train loss: 0.009721120594379802\n",
      "valid loss: 0.009793528099544346\n",
      "Epoch 009:\n",
      "train loss: 0.009528639278141782\n",
      "valid loss: 0.011826454584176341\n",
      "Epoch 010:\n",
      "train loss: 0.009168790102315446\n",
      "valid loss: 0.012421268628289302\n",
      "Epoch 011:\n",
      "train loss: 0.00945037121612889\n",
      "valid loss: 0.010181654842259984\n",
      "Epoch 012:\n",
      "train loss: 0.008819412242155522\n",
      "valid loss: 0.010055154523191353\n",
      "Epoch 013:\n",
      "train loss: 0.008384574427812671\n",
      "valid loss: 0.009511440185209115\n",
      "Epoch 014:\n",
      "train loss: 0.00855246012021477\n",
      "valid loss: 0.009578970160024862\n",
      "Epoch 015:\n",
      "train loss: 0.008613267395412549\n",
      "valid loss: 0.011192327008272211\n",
      "Epoch 016:\n",
      "train loss: 0.009069249286161115\n",
      "valid loss: 0.009316769839885334\n",
      "Epoch 017:\n",
      "train loss: 0.00843028161713543\n",
      "valid loss: 0.009374158782884478\n",
      "Epoch 018:\n",
      "train loss: 0.008205001888563856\n",
      "valid loss: 0.008955092099495233\n",
      "Epoch 019:\n",
      "train loss: 0.008171418427567308\n",
      "valid loss: 0.009013163453588883\n",
      "Epoch 020:\n",
      "train loss: 0.007948288154633094\n",
      "valid loss: 0.00955997440032661\n",
      "Epoch 021:\n",
      "train loss: 0.008186633339695012\n",
      "valid loss: 0.00901055777600656\n",
      "Epoch 022:\n",
      "train loss: 0.008402525746108343\n",
      "valid loss: 0.008522763491297762\n",
      "Epoch 023:\n",
      "train loss: 0.00793499126448296\n",
      "valid loss: 0.009568617159190277\n",
      "Epoch 024:\n",
      "train loss: 0.007820792684409146\n",
      "valid loss: 0.008697428631906708\n",
      "Epoch 025:\n",
      "train loss: 0.007857622613664716\n",
      "valid loss: 0.009264190122485161\n",
      "Epoch 026:\n",
      "train loss: 0.00756106692715548\n",
      "valid loss: 0.0085083779025202\n",
      "Epoch 027:\n",
      "train loss: 0.007489391746154676\n",
      "valid loss: 0.009324682255585989\n",
      "Epoch 028:\n",
      "train loss: 0.007282618097572898\n",
      "valid loss: 0.00869037005274246\n",
      "Epoch 029:\n",
      "train loss: 0.007328913966193795\n",
      "valid loss: 0.009049742226488888\n",
      "Epoch 030:\n",
      "train loss: 0.00704525633676288\n",
      "valid loss: 0.008641460242991646\n",
      "Epoch 031:\n",
      "train loss: 0.0069386324845254425\n",
      "valid loss: 0.008702615609702964\n",
      "Epoch 032:\n",
      "train loss: 0.006881951593095436\n",
      "valid loss: 0.008651413791812956\n",
      "Epoch 033:\n",
      "train loss: 0.007036104982641215\n",
      "valid loss: 0.008822090613345305\n",
      "Epoch 034:\n",
      "train loss: 0.006927159585757181\n",
      "valid loss: 0.00882954818662256\n",
      "Epoch 035:\n",
      "train loss: 0.006864056961300473\n",
      "valid loss: 0.008621830687237283\n",
      "Epoch 036:\n",
      "train loss: 0.0070325239425680286\n",
      "valid loss: 0.009785663600390156\n",
      "Epoch 037:\n",
      "train loss: 0.006865752212858448\n",
      "valid loss: 0.008401240563640992\n",
      "Epoch 038:\n",
      "train loss: 0.006435281307979797\n",
      "valid loss: 0.008564410381950438\n",
      "Epoch 039:\n",
      "train loss: 0.006522873695939779\n",
      "valid loss: 0.008391665442225834\n",
      "Epoch 040:\n",
      "train loss: 0.006596660980721936\n",
      "valid loss: 0.008576385769993066\n",
      "Epoch 041:\n",
      "train loss: 0.006606727921947216\n",
      "valid loss: 0.008037092629820108\n",
      "Epoch 042:\n",
      "train loss: 0.006610370371102666\n",
      "valid loss: 0.00861232866688321\n",
      "Epoch 043:\n",
      "train loss: 0.006315630711227035\n",
      "valid loss: 0.008132583562595148\n",
      "Epoch 044:\n",
      "train loss: 0.006351827678736299\n",
      "valid loss: 0.008907298487611116\n",
      "Epoch 045:\n",
      "train loss: 0.006410466330513979\n",
      "valid loss: 0.009239609267873069\n",
      "Epoch 046:\n",
      "train loss: 0.006251125476167848\n",
      "valid loss: 0.007996737390446167\n",
      "Epoch 047:\n",
      "train loss: 0.0061036317007771386\n",
      "valid loss: 0.008172439876943827\n",
      "Epoch 048:\n",
      "train loss: 0.006052490312140435\n",
      "valid loss: 0.008550389995798468\n",
      "Epoch 049:\n",
      "train loss: 0.006171476140540714\n",
      "valid loss: 0.00880582503353556\n",
      "Epoch 050:\n",
      "train loss: 0.006058351883742337\n",
      "valid loss: 0.008276939345523714\n",
      "Epoch 051:\n",
      "train loss: 0.005850350763648748\n",
      "valid loss: 0.008342651945228378\n",
      "Epoch 052:\n",
      "train loss: 0.005839765479322523\n",
      "valid loss: 0.008220536378212273\n",
      "Epoch 053:\n",
      "train loss: 0.005730677901495559\n",
      "valid loss: 0.008373260917142033\n",
      "Epoch 054:\n",
      "train loss: 0.005698472442842709\n",
      "valid loss: 0.008141358545981348\n",
      "Epoch 055:\n",
      "train loss: 0.005650822512689046\n",
      "valid loss: 0.008415232389234006\n",
      "Epoch 056:\n",
      "train loss: 0.005630549959217509\n",
      "valid loss: 0.00847792785304288\n",
      "Epoch 057:\n",
      "train loss: 0.005787779107534637\n",
      "valid loss: 0.008218444115482271\n",
      "Epoch 058:\n",
      "train loss: 0.005578963392569373\n",
      "valid loss: 0.00814103859787186\n",
      "Epoch 059:\n",
      "train loss: 0.0054397858194230745\n",
      "valid loss: 0.00847960455964009\n",
      "Epoch 060:\n",
      "train loss: 0.005543827788399843\n",
      "valid loss: 0.00832949858934929\n",
      "Epoch 061:\n",
      "train loss: 0.00561922622534136\n",
      "valid loss: 0.008560460813653966\n",
      "Epoch 062:\n",
      "train loss: 0.005239477540211131\n",
      "valid loss: 0.008189426572062074\n",
      "Epoch 063:\n",
      "train loss: 0.0054359138914151115\n",
      "valid loss: 0.0084478042088449\n",
      "Epoch 064:\n",
      "train loss: 0.005275741727867474\n",
      "valid loss: 0.008690770032505195\n",
      "Epoch 065:\n",
      "train loss: 0.0051430782050980875\n",
      "valid loss: 0.008238198926361899\n",
      "Epoch 066:\n",
      "train loss: 0.005136652292761331\n",
      "valid loss: 0.007937736009868484\n",
      "Epoch 067:\n",
      "train loss: 0.005096650307920451\n",
      "valid loss: 0.008014825956585507\n",
      "Epoch 068:\n",
      "train loss: 0.004998104505163307\n",
      "valid loss: 0.008066475189601382\n",
      "Epoch 069:\n",
      "train loss: 0.005010583521410202\n",
      "valid loss: 0.00836159186437726\n",
      "Epoch 070:\n",
      "train loss: 0.005126841084954019\n",
      "valid loss: 0.007999864484493932\n",
      "Epoch 071:\n",
      "train loss: 0.005174453918395254\n",
      "valid loss: 0.008051400523011882\n",
      "Epoch 072:\n",
      "train loss: 0.004950212695985101\n",
      "valid loss: 0.008258007257245481\n",
      "Epoch 073:\n",
      "train loss: 0.004759185024886392\n",
      "valid loss: 0.008443615911528469\n",
      "Epoch 074:\n",
      "train loss: 0.005449922974609459\n",
      "valid loss: 0.008293916882636646\n",
      "Epoch 075:\n",
      "train loss: 0.005060960947109076\n",
      "valid loss: 0.00830534315512826\n",
      "Epoch 076:\n",
      "train loss: 0.004846545072117199\n",
      "valid loss: 0.008124164414281647\n",
      "Epoch 077:\n",
      "train loss: 0.004820536414626986\n",
      "valid loss: 0.008373530317718784\n",
      "Epoch 078:\n",
      "train loss: 0.004601230164795803\n",
      "valid loss: 0.008189363956140975\n",
      "Epoch 079:\n",
      "train loss: 0.004586577279648433\n",
      "valid loss: 0.00838055795369049\n",
      "Epoch 080:\n",
      "train loss: 0.004626329184975475\n",
      "valid loss: 0.007914412821022173\n",
      "Epoch 081:\n",
      "train loss: 0.004602640065907811\n",
      "valid loss: 0.008250047313049435\n",
      "Epoch 082:\n",
      "train loss: 0.004658153919929949\n",
      "valid loss: 0.008180573955178261\n",
      "Epoch 083:\n",
      "train loss: 0.004571492532462192\n",
      "valid loss: 0.008787465235218405\n",
      "Epoch 084:\n",
      "train loss: 0.004591680156105819\n",
      "valid loss: 0.008011701346064607\n",
      "Epoch 085:\n",
      "train loss: 0.004533025536026495\n",
      "valid loss: 0.008578939130529761\n",
      "Epoch 086:\n",
      "train loss: 0.004768070652304838\n",
      "valid loss: 0.008208813852009673\n",
      "Epoch 087:\n",
      "train loss: 0.004498550095983471\n",
      "valid loss: 0.008347103240278859\n",
      "Epoch 088:\n",
      "train loss: 0.004539299816436445\n",
      "valid loss: 0.008212747137683133\n",
      "Epoch 089:\n",
      "train loss: 0.004482033839061235\n",
      "valid loss: 0.008028796284149091\n",
      "Epoch 090:\n",
      "train loss: 0.004311707027954981\n",
      "valid loss: 0.007897174296279749\n",
      "Epoch 091:\n",
      "train loss: 0.004424827665206976\n",
      "valid loss: 0.0083982728033637\n",
      "Epoch 092:\n",
      "train loss: 0.004310911308857612\n",
      "valid loss: 0.007987451110966503\n",
      "Epoch 093:\n",
      "train loss: 0.004309418043703772\n",
      "valid loss: 0.007933857260892789\n",
      "Epoch 094:\n",
      "train loss: 0.004328573532014464\n",
      "valid loss: 0.008156029934373995\n",
      "Epoch 095:\n",
      "train loss: 0.004453593782576111\n",
      "valid loss: 0.007981258033153912\n",
      "Epoch 096:\n",
      "train loss: 0.0043264654746356735\n",
      "valid loss: 0.008105552289634943\n",
      "Epoch 097:\n",
      "train loss: 0.004292591322640268\n",
      "valid loss: 0.00807011832948774\n",
      "Epoch 098:\n",
      "train loss: 0.004229489195859059\n",
      "valid loss: 0.008201001351699233\n",
      "Epoch 099:\n",
      "train loss: 0.004046133337154364\n",
      "valid loss: 0.007828988732459645\n"
     ]
    },
    {
     "data": {
      "image/png": "[encoded data removed]",
      "text/plain": [
       "<Figure size 432x288 with 1 Axes>"
      ]
     },
     "metadata": {
      "needs_background": "light"
     },
     "output_type": "display_data"
    }
   ],
   "source": [
    "t.run()"
   ]
  },
  {
   "cell_type": "markdown",
   "metadata": {
    "colab_type": "text",
    "id": "mzDQiSOIz6Pf"
   },
   "source": [
    "## Testing"
   ]
  },
  {
   "cell_type": "code",
   "execution_count": 12,
   "metadata": {
    "colab": {},
    "colab_type": "code",
    "id": "sA2yn9DJco6O"
   },
   "outputs": [
    {
     "name": "stdout",
     "output_type": "stream",
     "text": [
      " 3000 / 3000\n"
     ]
    }
   ],
   "source": [
    "device = 'cuda'\n",
    "model = t.model\n",
    "trans2 = transforms.ToTensor()\n",
    "# Do testing\n",
    "test_img_dir = ROOT_DIR / 'test_images'\n",
    "submission = pd.read_csv(ROOT_DIR / 'sample.csv').to_dict('records')\n",
    "\n",
    "test_out_dir = ROOT_DIR / 'test_image_results'\n",
    "if not test_out_dir.exists():\n",
    "    test_out_dir.mkdir(parents=True)\n",
    "\n",
    "lenn = len(submission)\n",
    "for i, item in enumerate(submission):\n",
    "    print('\\r %4d / %4d' % (i+1, lenn), end='')\n",
    "    im = Image.open(test_img_dir / item['name'])\n",
    "    w, h = im.size\n",
    "    im_ = im.resize((192,320))\n",
    "    im_ = trans2(im_)\n",
    "    D, H, W = im_.size()\n",
    "    im__ = im_.view(1, D, H, W)\n",
    "    im__ = im__.to(device)\n",
    "    pred = model(im__).cpu().detach()\n",
    "    vis = draw_kpts(im, pred, c='red')\n",
    "    pred = pred.numpy().reshape(-1)\n",
    "    vis.save(test_out_dir / item['name'])\n",
    "    for i, field in enumerate(FIELDS):\n",
    "        if field[-1] == 'x':\n",
    "            item[field] = pred[i] * w\n",
    "        else:\n",
    "            item[field] = pred[i] * h\n",
    "\n",
    "print()\n",
    "a = pd.DataFrame.from_dict(submission)\n",
    "a.to_csv(ROOT_DIR / 'test.csv', index=False)"
   ]
  },
  {
   "cell_type": "code",
   "execution_count": 13,
   "metadata": {},
   "outputs": [
    {
     "data": {
      "text/plain": [
       "2753"
      ]
     },
     "execution_count": 13,
     "metadata": {},
     "output_type": "execute_result"
    }
   ],
   "source": [
    "\n",
    "\n",
    "gc.collect()"
   ]
  },
  {
   "cell_type": "code",
   "execution_count": 14,
   "metadata": {
    "colab": {
     "base_uri": "https://localhost:8080/",
     "height": 337
    },
    "colab_type": "code",
    "id": "oJaYpKDqjiLh",
    "outputId": "18ec18cf-cacc-4017-9935-20bbe6523c68"
   },
   "outputs": [
    {
     "data": {
      "image/jpeg": "[encoded data removed]",
      "text/plain": [
       "<IPython.core.display.Image object>"
      ]
     },
     "execution_count": 14,
     "metadata": {},
     "output_type": "execute_result"
    }
   ],
   "source": [
    "display.Image(str(log_dir / '004' / '000.jpg')) # A visualization of training data in epoch 4"
   ]
  },
  {
   "cell_type": "code",
   "execution_count": 15,
   "metadata": {
    "colab": {
     "base_uri": "https://localhost:8080/",
     "height": 337
    },
    "colab_type": "code",
    "id": "X6umOrDCkXXn",
    "outputId": "0275a955-a7b6-491b-99b6-e988f93ae031"
   },
   "outputs": [
    {
     "data": {
      "image/jpeg": "[encoded data removed]",
      "text/plain": [
       "<IPython.core.display.Image object>"
      ]
     },
     "execution_count": 15,
     "metadata": {},
     "output_type": "execute_result"
    }
   ],
   "source": [
    "display.Image(str(log_dir / '004' / '025.jpg')) # A visualization of validation data in epoch 4"
   ]
  },
  {
   "cell_type": "code",
   "execution_count": 16,
   "metadata": {
    "colab": {
     "base_uri": "https://localhost:8080/",
     "height": 305
    },
    "colab_type": "code",
    "id": "CJ02RuAE7SXD",
    "outputId": "2a09fcc5-8922-4972-fdab-3fc8c7aec998"
   },
   "outputs": [
    {
     "data": {
      "image/png": "[encoded data removed]",
      "text/plain": [
       "<IPython.core.display.Image object>"
      ]
     },
     "execution_count": 16,
     "metadata": {},
     "output_type": "execute_result"
    }
   ],
   "source": [
    "display.Image(str(log_dir / 'metrics.png')) # Loss"
   ]
  },
  {
   "cell_type": "code",
   "execution_count": 17,
   "metadata": {
    "colab": {
     "base_uri": "https://localhost:8080/",
     "height": 182
    },
    "colab_type": "code",
    "id": "hE7xqUzkgmOl",
    "outputId": "b806726d-377a-45dd-9ffc-be4b8bd84669"
   },
   "outputs": [
    {
     "data": {
      "text/plain": [
       "'{\"rmse\":13.398}\\n'"
      ]
     },
     "execution_count": 17,
     "metadata": {},
     "output_type": "execute_result"
    }
   ],
   "source": [
    "b = Browser()\n",
    "\n",
    "upload = {'file': open(ROOT_DIR / 'test.csv', 'rb')}\n",
    "r, s = b.post('http://140.114.76.113:5000/cs6550', files=upload)\n",
    "s"
   ]
  },
  {
   "cell_type": "code",
   "execution_count": null,
   "metadata": {
    "colab": {},
    "colab_type": "code",
    "id": "cGXJdUCeB1zT"
   },
   "outputs": [],
   "source": []
  }
 ],
 "metadata": {
  "accelerator": "GPU",
  "colab": {
   "collapsed_sections": [],
   "name": "CV HW3 B",
   "provenance": [],
   "toc_visible": true
  },
  "kernelspec": {
   "display_name": "Python 3",
   "language": "python",
   "name": "python3"
  },
  "language_info": {
   "codemirror_mode": {
    "name": "ipython",
    "version": 3
   },
   "file_extension": ".py",
   "mimetype": "text/x-python",
   "name": "python",
   "nbconvert_exporter": "python",
   "pygments_lexer": "ipython3",
   "version": "3.7.5"
  }
 },
 "nbformat": 4,
 "nbformat_minor": 1
}
